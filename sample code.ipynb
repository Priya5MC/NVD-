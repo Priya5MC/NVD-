{
 "cells": [
  {
   "cell_type": "code",
   "execution_count": 1,
   "id": "4f6085f9-04b7-486b-a912-77953b097532",
   "metadata": {},
   "outputs": [
    {
     "name": "stderr",
     "output_type": "stream",
     "text": [
      "2024-05-29 15:24:16.841 \n",
      "  \u001b[33m\u001b[1mWarning:\u001b[0m to view this Streamlit app on a browser, run it with the following\n",
      "  command:\n",
      "\n",
      "    streamlit run C:\\Users\\saiga\\anaconda3\\Lib\\site-packages\\ipykernel_launcher.py [ARGUMENTS]\n"
     ]
    }
   ],
   "source": [
    "import streamlit as st\n",
    "import pandas as pd\n",
    "\n",
    "def main():\n",
    "    st.title('Field Value Details')\n",
    "\n",
    "    # Sample data\n",
    "    data = {\n",
    "        'Name': ['John', 'Jane', 'Alice'],\n",
    "        'Age': [30, 25, 35],\n",
    "        'Occupation': ['Engineer', 'Designer', 'Doctor']\n",
    "    }\n",
    "\n",
    "    df = pd.DataFrame(data)\n",
    "\n",
    "    st.write('## Data Table')\n",
    "    st.dataframe(df)\n",
    "\n",
    "    # Create a selectbox to choose a name\n",
    "    selected_name = st.selectbox('Select a Name to see details', df['Name'])\n",
    "\n",
    "    if selected_name:\n",
    "        # Get the details of the selected name\n",
    "        selected_row = df[df['Name'] == selected_name].iloc[0]\n",
    "        st.write('## Additional Details')\n",
    "        st.write(f'**Name:** {selected_row[\"Name\"]}')\n",
    "        st.write(f'**Age:** {selected_row[\"Age\"]}')\n",
    "        st.write(f'**Occupation:** {selected_row[\"Occupation\"]}')\n",
    "\n",
    "if __name__ == '__main__':\n",
    "    main()\n"
   ]
  },
  {
   "cell_type": "code",
   "execution_count": null,
   "id": "01422930-b6a9-480b-83ae-5224fbcce0b0",
   "metadata": {},
   "outputs": [],
   "source": []
  }
 ],
 "metadata": {
  "kernelspec": {
   "display_name": "Python 3 (ipykernel)",
   "language": "python",
   "name": "python3"
  },
  "language_info": {
   "codemirror_mode": {
    "name": "ipython",
    "version": 3
   },
   "file_extension": ".py",
   "mimetype": "text/x-python",
   "name": "python",
   "nbconvert_exporter": "python",
   "pygments_lexer": "ipython3",
   "version": "3.11.7"
  }
 },
 "nbformat": 4,
 "nbformat_minor": 5
}
