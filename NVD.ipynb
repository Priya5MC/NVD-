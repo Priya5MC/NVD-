{
 "cells": [
  {
   "cell_type": "code",
   "execution_count": 10,
   "id": "c988cab5-12f5-48dc-9513-85e1f77f7847",
   "metadata": {},
   "outputs": [],
   "source": [
    "\n",
    "import numpy as np\n",
    "import pandas as pd\n",
    "import streamlit as st\n",
    "import joblib\n",
    "import warnings\n",
    "warnings.filterwarnings('ignore')"
   ]
  },
  {
   "cell_type": "code",
   "execution_count": 11,
   "id": "cfdbcea8-9b2d-4505-b350-05b08136b076",
   "metadata": {},
   "outputs": [],
   "source": [
    "\n",
    "def read_first_5_records(input_file):\n",
    "    data = pd.read_csv(input_file)\n",
    "    \n",
    "    first_5_records = data.head(5)\n",
    "    return first_5_records\n",
    "    "
   ]
  },
  {
   "cell_type": "code",
   "execution_count": 12,
   "id": "6cd523f8-0865-4576-8c16-228c966fdd88",
   "metadata": {},
   "outputs": [],
   "source": [
    "def main():\n",
    "    st.title('NVD')\n",
    "    html_tmp = \"\"\"\n",
    "    <div style='background-color:red;'>\n",
    "    <h2 style='color:white;text-align:center;'>CVE LIST</h2>\n",
    "    </div>\n",
    "    \"\"\"\n",
    "    data = pd.read_csv('NVD.csv')\n",
    "    st.markdown(html_tmp, unsafe_allow_html=True)\n",
    "    st.write(\"First five rows\")\n",
    "    st.dataframe(data.head(5))\n",
    "\n",
    "if __name__ == '__main__':\n",
    "    main()\n",
    "\n",
    "    "
   ]
  },
  {
   "cell_type": "code",
   "execution_count": null,
   "id": "6698c28b-8f7b-4599-8d80-b2c8e6793588",
   "metadata": {},
   "outputs": [],
   "source": []
  }
 ],
 "metadata": {
  "kernelspec": {
   "display_name": "Python 3 (ipykernel)",
   "language": "python",
   "name": "python3"
  },
  "language_info": {
   "codemirror_mode": {
    "name": "ipython",
    "version": 3
   },
   "file_extension": ".py",
   "mimetype": "text/x-python",
   "name": "python",
   "nbconvert_exporter": "python",
   "pygments_lexer": "ipython3",
   "version": "3.11.7"
  }
 },
 "nbformat": 4,
 "nbformat_minor": 5
}
